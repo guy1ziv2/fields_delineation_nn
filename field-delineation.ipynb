{
 "cells": [
  {
   "cell_type": "markdown",
   "metadata": {},
   "source": [
    "# Delineation of field boundary"
   ]
  },
  {
   "cell_type": "markdown",
   "metadata": {},
   "source": [
    "If you are using python for spatial processing, it is sometimes useful to plot your data. In these cases, it may also be helpful to render a simple map to help locate the data. This notebook will show you how plot a shapefile using pyplot for this purpose.\n",
    "\n",
    "## Dependencies\n",
    "\n",
    "If you don't have `pyshp` or `pyproj` in your jupyter environement, install them now:"
   ]
  },
  {
   "cell_type": "code",
   "execution_count": 1,
   "metadata": {},
   "outputs": [
    {
     "name": "stdout",
     "output_type": "stream",
     "text": [
      "WARNING: pip is being invoked by an old script wrapper. This will fail in a future version of pip.\n",
      "Please see https://github.com/pypa/pip/issues/5599 for advice on fixing the underlying issue.\n",
      "To avoid this problem you can invoke Python with '-m pip' instead of running pip directly.\n",
      "Requirement already satisfied: pyshp in /opt/conda/lib/python3.7/site-packages (2.1.0)\n",
      "Requirement already satisfied: pyproj in /opt/conda/lib/python3.7/site-packages (2.6.1.post1)\n"
     ]
    }
   ],
   "source": [
    "!pip install pyshp pyproj"
   ]
  },
  {
   "cell_type": "markdown",
   "metadata": {},
   "source": [
    "## Loading the Shapefile\n",
    "\n",
    "### Pre-requisite\n",
    "Download data from [here](https://drive.google.com/file/d/1ezdwnKeJ1rbxmiJznhOCaImNQ02KPraZ/view?usp=sharing) and save in `FR_ROI_fields_2019/`\n",
    "We will use the shapefile from the link above.\n"
   ]
  },
  {
   "cell_type": "code",
   "execution_count": 5,
   "metadata": {},
   "outputs": [
    {
     "name": "stdout",
     "output_type": "stream",
     "text": [
      "[('DeletionFlag', 'C', 1, 0), ['fid_', 'N', 10, 0], ['ID_PARCEL', 'C', 10, 0], ['SURF_PARC', 'F', 19, 11], ['CODE_CULTU', 'C', 3, 0], ['CODE_GROUP', 'C', 2, 0], ['CULTURE_D1', 'C', 3, 0], ['CULTURE_D2', 'C', 3, 0]]\n"
     ]
    }
   ],
   "source": [
    "import shapefile\n",
    "import matplotlib.pyplot as plt\n",
    "\n",
    "fp = \"FR_ROI_fields_2019/FR_ROI_parcels.shp\"\n",
    "sf = shapefile.Reader(fp)\n",
    "print(sf.fields)\n"
   ]
  },
  {
   "cell_type": "code",
   "execution_count": 6,
   "metadata": {},
   "outputs": [
    {
     "data": {
      "text/html": [
       "<div>\n",
       "<style scoped>\n",
       "    .dataframe tbody tr th:only-of-type {\n",
       "        vertical-align: middle;\n",
       "    }\n",
       "\n",
       "    .dataframe tbody tr th {\n",
       "        vertical-align: top;\n",
       "    }\n",
       "\n",
       "    .dataframe thead th {\n",
       "        text-align: right;\n",
       "    }\n",
       "</style>\n",
       "<table border=\"1\" class=\"dataframe\">\n",
       "  <thead>\n",
       "    <tr style=\"text-align: right;\">\n",
       "      <th></th>\n",
       "      <th>fid_</th>\n",
       "      <th>ID_PARCEL</th>\n",
       "      <th>SURF_PARC</th>\n",
       "      <th>CODE_CULTU</th>\n",
       "      <th>CODE_GROUP</th>\n",
       "      <th>CULTURE_D1</th>\n",
       "      <th>CULTURE_D2</th>\n",
       "      <th>geometry</th>\n",
       "    </tr>\n",
       "  </thead>\n",
       "  <tbody>\n",
       "    <tr>\n",
       "      <th>0</th>\n",
       "      <td>0</td>\n",
       "      <td>8098361</td>\n",
       "      <td>2.38</td>\n",
       "      <td>ORP</td>\n",
       "      <td>3</td>\n",
       "      <td>DVS</td>\n",
       "      <td>DMD</td>\n",
       "      <td>POLYGON ((710695.531 6809279.064, 710701.676 6...</td>\n",
       "    </tr>\n",
       "    <tr>\n",
       "      <th>1</th>\n",
       "      <td>0</td>\n",
       "      <td>8098358</td>\n",
       "      <td>1.37</td>\n",
       "      <td>ORH</td>\n",
       "      <td>3</td>\n",
       "      <td>DVS</td>\n",
       "      <td>DMD</td>\n",
       "      <td>POLYGON ((712269.586 6810265.643, 712306.099 6...</td>\n",
       "    </tr>\n",
       "    <tr>\n",
       "      <th>2</th>\n",
       "      <td>0</td>\n",
       "      <td>8066789</td>\n",
       "      <td>0.43</td>\n",
       "      <td>J6S</td>\n",
       "      <td>11</td>\n",
       "      <td>None</td>\n",
       "      <td>None</td>\n",
       "      <td>POLYGON ((721420.806 6816453.165, 721385.289 6...</td>\n",
       "    </tr>\n",
       "    <tr>\n",
       "      <th>3</th>\n",
       "      <td>0</td>\n",
       "      <td>13540065</td>\n",
       "      <td>10.25</td>\n",
       "      <td>BTH</td>\n",
       "      <td>1</td>\n",
       "      <td>DPH</td>\n",
       "      <td>DMD</td>\n",
       "      <td>POLYGON ((701787.638 6792938.984, 701813.697 6...</td>\n",
       "    </tr>\n",
       "    <tr>\n",
       "      <th>4</th>\n",
       "      <td>0</td>\n",
       "      <td>8047083</td>\n",
       "      <td>1.39</td>\n",
       "      <td>J6S</td>\n",
       "      <td>11</td>\n",
       "      <td>None</td>\n",
       "      <td>None</td>\n",
       "      <td>POLYGON ((720633.951 6809664.312, 720870.047 6...</td>\n",
       "    </tr>\n",
       "    <tr>\n",
       "      <th>...</th>\n",
       "      <td>...</td>\n",
       "      <td>...</td>\n",
       "      <td>...</td>\n",
       "      <td>...</td>\n",
       "      <td>...</td>\n",
       "      <td>...</td>\n",
       "      <td>...</td>\n",
       "      <td>...</td>\n",
       "    </tr>\n",
       "    <tr>\n",
       "      <th>718263</th>\n",
       "      <td>0</td>\n",
       "      <td>16261356</td>\n",
       "      <td>9.66</td>\n",
       "      <td>SPL</td>\n",
       "      <td>17</td>\n",
       "      <td>None</td>\n",
       "      <td>None</td>\n",
       "      <td>POLYGON ((779239.337 6383326.171, 779235.898 6...</td>\n",
       "    </tr>\n",
       "    <tr>\n",
       "      <th>718264</th>\n",
       "      <td>0</td>\n",
       "      <td>16261833</td>\n",
       "      <td>8.00</td>\n",
       "      <td>SPL</td>\n",
       "      <td>17</td>\n",
       "      <td>None</td>\n",
       "      <td>None</td>\n",
       "      <td>POLYGON ((779236.691 6383320.849, 779215.524 6...</td>\n",
       "    </tr>\n",
       "    <tr>\n",
       "      <th>718265</th>\n",
       "      <td>0</td>\n",
       "      <td>16262868</td>\n",
       "      <td>20.67</td>\n",
       "      <td>BOP</td>\n",
       "      <td>17</td>\n",
       "      <td>None</td>\n",
       "      <td>None</td>\n",
       "      <td>POLYGON ((778989.692 6383116.464, 779157.306 6...</td>\n",
       "    </tr>\n",
       "    <tr>\n",
       "      <th>718266</th>\n",
       "      <td>0</td>\n",
       "      <td>16263366</td>\n",
       "      <td>2.07</td>\n",
       "      <td>SPL</td>\n",
       "      <td>17</td>\n",
       "      <td>None</td>\n",
       "      <td>None</td>\n",
       "      <td>POLYGON ((779197.473 6383212.534, 779213.613 6...</td>\n",
       "    </tr>\n",
       "    <tr>\n",
       "      <th>718267</th>\n",
       "      <td>0</td>\n",
       "      <td>16411364</td>\n",
       "      <td>13.09</td>\n",
       "      <td>TRN</td>\n",
       "      <td>6</td>\n",
       "      <td>None</td>\n",
       "      <td>None</td>\n",
       "      <td>POLYGON ((707366.042 6771776.523, 707374.388 6...</td>\n",
       "    </tr>\n",
       "  </tbody>\n",
       "</table>\n",
       "<p>718268 rows × 8 columns</p>\n",
       "</div>"
      ],
      "text/plain": [
       "        fid_ ID_PARCEL  SURF_PARC CODE_CULTU CODE_GROUP CULTURE_D1 CULTURE_D2  \\\n",
       "0          0   8098361       2.38        ORP          3        DVS        DMD   \n",
       "1          0   8098358       1.37        ORH          3        DVS        DMD   \n",
       "2          0   8066789       0.43        J6S         11       None       None   \n",
       "3          0  13540065      10.25        BTH          1        DPH        DMD   \n",
       "4          0   8047083       1.39        J6S         11       None       None   \n",
       "...      ...       ...        ...        ...        ...        ...        ...   \n",
       "718263     0  16261356       9.66        SPL         17       None       None   \n",
       "718264     0  16261833       8.00        SPL         17       None       None   \n",
       "718265     0  16262868      20.67        BOP         17       None       None   \n",
       "718266     0  16263366       2.07        SPL         17       None       None   \n",
       "718267     0  16411364      13.09        TRN          6       None       None   \n",
       "\n",
       "                                                 geometry  \n",
       "0       POLYGON ((710695.531 6809279.064, 710701.676 6...  \n",
       "1       POLYGON ((712269.586 6810265.643, 712306.099 6...  \n",
       "2       POLYGON ((721420.806 6816453.165, 721385.289 6...  \n",
       "3       POLYGON ((701787.638 6792938.984, 701813.697 6...  \n",
       "4       POLYGON ((720633.951 6809664.312, 720870.047 6...  \n",
       "...                                                   ...  \n",
       "718263  POLYGON ((779239.337 6383326.171, 779235.898 6...  \n",
       "718264  POLYGON ((779236.691 6383320.849, 779215.524 6...  \n",
       "718265  POLYGON ((778989.692 6383116.464, 779157.306 6...  \n",
       "718266  POLYGON ((779197.473 6383212.534, 779213.613 6...  \n",
       "718267  POLYGON ((707366.042 6771776.523, 707374.388 6...  \n",
       "\n",
       "[718268 rows x 8 columns]"
      ]
     },
     "execution_count": 6,
     "metadata": {},
     "output_type": "execute_result"
    }
   ],
   "source": [
    "import geopandas as gpd\n",
    "gpd.read_file(fp)"
   ]
  },
  {
   "cell_type": "markdown",
   "metadata": {},
   "source": [
    "## Reprojection\n",
    "\n",
    "The field boundary shapefile is in the RGF93 / Lambert-93 projetion (`EPSG:2154`). We will reproject to Web Mercator (`EPSG:3857`) for visualization (may not need). To do this, we construct a `Transformer` using `pyproj`.\n",
    "\n",
    "At the same time, set up the rendering bounds. For simplicity, define the bounds in lat/lon and reproject to meters. Note that `pyplot` expects bounds in `minx,maxx,miny,maxy` order, while `pyproj` transform works on in `x,y` pairs."
   ]
  },
  {
   "cell_type": "code",
   "execution_count": 7,
   "metadata": {},
   "outputs": [],
   "source": [
    "import pyproj\n",
    "\n",
    "transformer = pyproj.Transformer.from_crs('EPSG:2154', 'EPSG:3857', always_xy=True)\n",
    "\n",
    "BOUNDS = [3,44,49,46.5] # Need to verify. Got this data from FR_ROI_parcels.prj\n",
    "BOUNDS[0],BOUNDS[2] = transformer.transform(BOUNDS[0],BOUNDS[2])\n",
    "BOUNDS[1],BOUNDS[3] = transformer.transform(BOUNDS[1],BOUNDS[3])"
   ]
  },
  {
   "cell_type": "markdown",
   "metadata": {},
   "source": [
    "## Plotting the Data\n",
    "\n",
    "To display the shapefile, iterate through the shapes in the shapefile. Collect the points for each shape, and transform them to `EPSG:3857` using the transformer constructed above. Plot each shape with pyplot using `fill` for the fill and `plot` for the outline.\n",
    "\n",
    "Finaly, set the bounds on the plot."
   ]
  },
  {
   "cell_type": "code",
   "execution_count": 8,
   "metadata": {},
   "outputs": [
    {
     "ename": "KeyboardInterrupt",
     "evalue": "",
     "output_type": "error",
     "traceback": [
      "\u001b[0;31m---------------------------------------------------------------------------\u001b[0m",
      "\u001b[0;31mKeyboardInterrupt\u001b[0m                         Traceback (most recent call last)",
      "\u001b[0;32m<ipython-input-8-a3dabadfe1c5>\u001b[0m in \u001b[0;36m<module>\u001b[0;34m\u001b[0m\n\u001b[1;32m      2\u001b[0m \u001b[0;32mimport\u001b[0m \u001b[0mmatplotlib\u001b[0m\u001b[0;34m.\u001b[0m\u001b[0mpyplot\u001b[0m \u001b[0;32mas\u001b[0m \u001b[0mplt\u001b[0m\u001b[0;34m\u001b[0m\u001b[0;34m\u001b[0m\u001b[0m\n\u001b[1;32m      3\u001b[0m \u001b[0;34m\u001b[0m\u001b[0m\n\u001b[0;32m----> 4\u001b[0;31m \u001b[0;32mfor\u001b[0m \u001b[0mshape\u001b[0m \u001b[0;32min\u001b[0m \u001b[0msf\u001b[0m\u001b[0;34m.\u001b[0m\u001b[0mshapeRecords\u001b[0m\u001b[0;34m(\u001b[0m\u001b[0;34m)\u001b[0m\u001b[0;34m:\u001b[0m\u001b[0;34m\u001b[0m\u001b[0;34m\u001b[0m\u001b[0m\n\u001b[0m\u001b[1;32m      5\u001b[0m     \u001b[0;32mfor\u001b[0m \u001b[0mi\u001b[0m \u001b[0;32min\u001b[0m \u001b[0mrange\u001b[0m\u001b[0;34m(\u001b[0m\u001b[0mlen\u001b[0m\u001b[0;34m(\u001b[0m\u001b[0mshape\u001b[0m\u001b[0;34m.\u001b[0m\u001b[0mshape\u001b[0m\u001b[0;34m.\u001b[0m\u001b[0mparts\u001b[0m\u001b[0;34m)\u001b[0m\u001b[0;34m)\u001b[0m\u001b[0;34m:\u001b[0m\u001b[0;34m\u001b[0m\u001b[0;34m\u001b[0m\u001b[0m\n\u001b[1;32m      6\u001b[0m         \u001b[0;31m# fillcolor=mapcolor_map[shape.record[mapcolor_idx]]\u001b[0m\u001b[0;34m\u001b[0m\u001b[0;34m\u001b[0m\u001b[0;34m\u001b[0m\u001b[0m\n",
      "\u001b[0;32m/opt/conda/lib/python3.7/site-packages/shapefile.py\u001b[0m in \u001b[0;36mshapeRecords\u001b[0;34m(self)\u001b[0m\n\u001b[1;32m   1037\u001b[0m         all records in a shapefile.\"\"\"\n\u001b[1;32m   1038\u001b[0m         return ShapeRecords([ShapeRecord(shape=rec[0], record=rec[1]) \\\n\u001b[0;32m-> 1039\u001b[0;31m                                 for rec in zip(self.shapes(), self.records())])\n\u001b[0m\u001b[1;32m   1040\u001b[0m \u001b[0;34m\u001b[0m\u001b[0m\n\u001b[1;32m   1041\u001b[0m     \u001b[0;32mdef\u001b[0m \u001b[0miterShapeRecords\u001b[0m\u001b[0;34m(\u001b[0m\u001b[0mself\u001b[0m\u001b[0;34m)\u001b[0m\u001b[0;34m:\u001b[0m\u001b[0;34m\u001b[0m\u001b[0;34m\u001b[0m\u001b[0m\n",
      "\u001b[0;32m/opt/conda/lib/python3.7/site-packages/shapefile.py\u001b[0m in \u001b[0;36mshapes\u001b[0;34m(self)\u001b[0m\n\u001b[1;32m    866\u001b[0m         \u001b[0mshapes\u001b[0m \u001b[0;34m=\u001b[0m \u001b[0mShapes\u001b[0m\u001b[0;34m(\u001b[0m\u001b[0;34m)\u001b[0m\u001b[0;34m\u001b[0m\u001b[0;34m\u001b[0m\u001b[0m\n\u001b[1;32m    867\u001b[0m         \u001b[0;32mwhile\u001b[0m \u001b[0mshp\u001b[0m\u001b[0;34m.\u001b[0m\u001b[0mtell\u001b[0m\u001b[0;34m(\u001b[0m\u001b[0;34m)\u001b[0m \u001b[0;34m<\u001b[0m \u001b[0mself\u001b[0m\u001b[0;34m.\u001b[0m\u001b[0mshpLength\u001b[0m\u001b[0;34m:\u001b[0m\u001b[0;34m\u001b[0m\u001b[0;34m\u001b[0m\u001b[0m\n\u001b[0;32m--> 868\u001b[0;31m             \u001b[0mshapes\u001b[0m\u001b[0;34m.\u001b[0m\u001b[0mappend\u001b[0m\u001b[0;34m(\u001b[0m\u001b[0mself\u001b[0m\u001b[0;34m.\u001b[0m\u001b[0m__shape\u001b[0m\u001b[0;34m(\u001b[0m\u001b[0;34m)\u001b[0m\u001b[0;34m)\u001b[0m\u001b[0;34m\u001b[0m\u001b[0;34m\u001b[0m\u001b[0m\n\u001b[0m\u001b[1;32m    869\u001b[0m         \u001b[0;32mreturn\u001b[0m \u001b[0mshapes\u001b[0m\u001b[0;34m\u001b[0m\u001b[0;34m\u001b[0m\u001b[0m\n\u001b[1;32m    870\u001b[0m \u001b[0;34m\u001b[0m\u001b[0m\n",
      "\u001b[0;32m/opt/conda/lib/python3.7/site-packages/shapefile.py\u001b[0m in \u001b[0;36m__shape\u001b[0;34m(self)\u001b[0m\n\u001b[1;32m    776\u001b[0m         \u001b[0;32mif\u001b[0m \u001b[0mnPoints\u001b[0m\u001b[0;34m:\u001b[0m\u001b[0;34m\u001b[0m\u001b[0;34m\u001b[0m\u001b[0m\n\u001b[1;32m    777\u001b[0m             \u001b[0mflat\u001b[0m \u001b[0;34m=\u001b[0m \u001b[0munpack\u001b[0m\u001b[0;34m(\u001b[0m\u001b[0;34m\"<%sd\"\u001b[0m \u001b[0;34m%\u001b[0m \u001b[0;34m(\u001b[0m\u001b[0;36m2\u001b[0m \u001b[0;34m*\u001b[0m \u001b[0mnPoints\u001b[0m\u001b[0;34m)\u001b[0m\u001b[0;34m,\u001b[0m \u001b[0mf\u001b[0m\u001b[0;34m.\u001b[0m\u001b[0mread\u001b[0m\u001b[0;34m(\u001b[0m\u001b[0;36m16\u001b[0m\u001b[0;34m*\u001b[0m\u001b[0mnPoints\u001b[0m\u001b[0;34m)\u001b[0m\u001b[0;34m)\u001b[0m\u001b[0;34m\u001b[0m\u001b[0;34m\u001b[0m\u001b[0m\n\u001b[0;32m--> 778\u001b[0;31m             \u001b[0mrecord\u001b[0m\u001b[0;34m.\u001b[0m\u001b[0mpoints\u001b[0m \u001b[0;34m=\u001b[0m \u001b[0mlist\u001b[0m\u001b[0;34m(\u001b[0m\u001b[0mizip\u001b[0m\u001b[0;34m(\u001b[0m\u001b[0;34m*\u001b[0m\u001b[0;34m(\u001b[0m\u001b[0miter\u001b[0m\u001b[0;34m(\u001b[0m\u001b[0mflat\u001b[0m\u001b[0;34m)\u001b[0m\u001b[0;34m,\u001b[0m\u001b[0;34m)\u001b[0m \u001b[0;34m*\u001b[0m \u001b[0;36m2\u001b[0m\u001b[0;34m)\u001b[0m\u001b[0;34m)\u001b[0m\u001b[0;34m\u001b[0m\u001b[0;34m\u001b[0m\u001b[0m\n\u001b[0m\u001b[1;32m    779\u001b[0m         \u001b[0;31m# Read z extremes and values\u001b[0m\u001b[0;34m\u001b[0m\u001b[0;34m\u001b[0m\u001b[0;34m\u001b[0m\u001b[0m\n\u001b[1;32m    780\u001b[0m         \u001b[0;32mif\u001b[0m \u001b[0mshapeType\u001b[0m \u001b[0;32min\u001b[0m \u001b[0;34m(\u001b[0m\u001b[0;36m13\u001b[0m\u001b[0;34m,\u001b[0m\u001b[0;36m15\u001b[0m\u001b[0;34m,\u001b[0m\u001b[0;36m18\u001b[0m\u001b[0;34m,\u001b[0m\u001b[0;36m31\u001b[0m\u001b[0;34m)\u001b[0m\u001b[0;34m:\u001b[0m\u001b[0;34m\u001b[0m\u001b[0;34m\u001b[0m\u001b[0m\n",
      "\u001b[0;31mKeyboardInterrupt\u001b[0m: "
     ]
    }
   ],
   "source": [
    "%matplotlib notebook\n",
    "import matplotlib.pyplot as plt\n",
    "\n",
    "for shape in sf.shapeRecords():\n",
    "    for i in range(len(shape.shape.parts)):\n",
    "        # fillcolor=mapcolor_map[shape.record[mapcolor_idx]]\n",
    "        \n",
    "        i_start = shape.shape.parts[i]\n",
    "        if i==len(shape.shape.parts)-1:\n",
    "            i_end = len(shape.shape.points)\n",
    "        else:\n",
    "            i_end = shape.shape.parts[i+1]\n",
    "        points = list(transformer.itransform(shape.shape.points[i_start:i_end]))\n",
    "\n",
    "        x = [i[0] for i in points]\n",
    "        y = [i[1] for i in points]\n",
    "        #Poly Fill\n",
    "        # plt.fill(x,y, facecolor=fillcolor, alpha=0.8)\n",
    "        plt.fill(x,y, alpha=0.8)\n",
    "        #Poly line\n",
    "        plt.plot(x,y, color='#000000', alpha=1, linewidth=1)\n",
    "        \n",
    "ax = plt.axis(BOUNDS)"
   ]
  },
  {
   "cell_type": "code",
   "execution_count": null,
   "metadata": {},
   "outputs": [],
   "source": []
  }
 ],
 "metadata": {
  "kernelspec": {
   "display_name": "Python 3",
   "language": "python",
   "name": "python3"
  },
  "language_info": {
   "codemirror_mode": {
    "name": "ipython",
    "version": 3
   },
   "file_extension": ".py",
   "mimetype": "text/x-python",
   "name": "python",
   "nbconvert_exporter": "python",
   "pygments_lexer": "ipython3",
   "version": "3.7.8"
  }
 },
 "nbformat": 4,
 "nbformat_minor": 2
}
